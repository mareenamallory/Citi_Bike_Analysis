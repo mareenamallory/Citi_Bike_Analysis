{
 "cells": [
  {
   "cell_type": "markdown",
   "metadata": {},
   "source": [
    "Mareena Mallory \n",
    "July 13th, 2019"
   ]
  },
  {
   "cell_type": "markdown",
   "metadata": {},
   "source": [
    "Problem Overview\n",
    "------------------------------------------------------------------\n",
    "\n",
    "Your client, The New York City, needs a better understanding of Citi Bike ridership. They have some questions about the Citi Bike performance in January 2017 and ask for your help.\n",
    "The historical data for 2017 Jan is given to you.\n",
    "\n",
    "The data includes: \n",
    "•\tTrip Duration (seconds) \n",
    "•\tStart Time and Date \n",
    "•\tStop Time and Date \n",
    "•\tStart Station Name \n",
    "•\tEnd Station Name \n",
    "•\tStation ID \n",
    "•\tStation Lat/Long\n",
    "•\tBike ID \n",
    "•\tUser Type (Customer = 24-hour pass or 3-day pass user; Subscriber = Annual Member) \n",
    "•\tGender (Zero=unknown; 1=male; 2=female) \n",
    "•\tYear of Birth \n",
    "\n",
    "The client wants to know the answers for the following questions, and it will be great if you can show some graphs to illustrate these problems"
   ]
  },
  {
   "cell_type": "code",
   "execution_count": null,
   "metadata": {},
   "outputs": [],
   "source": [
    "# Importing and loading the data\n",
    "\n",
    "import pandas as pd\n",
    "import math\n",
    "import numpy as np\n",
    "%matplotlib inline\n",
    "import matplotlib.pyplot as plt\n",
    "import seaborn as sns\n",
    "import mpu\n",
    "\n",
    "\n",
    "data = pd.read_csv('201701_citibike_tripdata.txt', sep=',')"
   ]
  },
  {
   "cell_type": "code",
   "execution_count": null,
   "metadata": {},
   "outputs": [],
   "source": [
    "# Taking a peek at the first few rows\n",
    "data.head()\n",
    "\n",
    "# Looking at the overall statistics of the data\n",
    "#data.describe(include='all')\n",
    "\n",
    "# Seeing how many null values are present for each attribute (most are for User Type and Birth Year)\n",
    "#print(data.isnull().sum())\n",
    "#print(data.size)"
   ]
  },
  {
   "cell_type": "code",
   "execution_count": null,
   "metadata": {},
   "outputs": [],
   "source": [
    "# In the case where a user takes a broken bike and immediately returns it, I will remove any cases where \n",
    "# the start station is the end station and the trip duration is less than 90 seconds (a somewhat arbitrary selection)\n",
    "# based on how long it would take to return the bike after realizing it wasn't working properly\n",
    "data = data.drop(data.index[(data['Start Station Latitude'] == data['End Station Latitude']) \n",
    "                            & (data['Trip Duration'] < 90) ])"
   ]
  },
  {
   "cell_type": "markdown",
   "metadata": {},
   "source": [
    "Question 1\n",
    "------------------------------------------------------------------\n",
    "Top 5 stations with the most starts (showing # of starts)"
   ]
  },
  {
   "cell_type": "code",
   "execution_count": null,
   "metadata": {},
   "outputs": [],
   "source": [
    "# Adding the counts of each station to two lists, one with the names and a second with the counts\n",
    "data_counts = data['Start Station Name'].value_counts()\n",
    "top_5_ID = data_counts.index[0:5].to_list()\n",
    "top_5_counts = data_counts.head().to_list()\n",
    "\n",
    "# Adding both the station name and count columns to a data frame for plotting\n",
    "top_5_stations = pd.DataFrame()\n",
    "top_5_stations['Start Station Name'] = top_5_ID\n",
    "top_5_stations['Count'] = top_5_counts\n",
    "\n",
    "\n",
    "print(top_5_stations)"
   ]
  },
  {
   "cell_type": "code",
   "execution_count": null,
   "metadata": {},
   "outputs": [],
   "source": [
    "# Visualizing the top 5 as a bar graph\n",
    "ax = top_5_stations.plot.bar(x='Start Station Name', y='Count', rot=0)\n",
    "ax.set_title('Top 5 Bike Stations by Number of Starts', fontsize = 20)\n",
    "plt.rcParams['figure.figsize'] = 20,7\n",
    "plt.show()"
   ]
  },
  {
   "cell_type": "markdown",
   "metadata": {},
   "source": [
    "Question 2\n",
    "------------------------------------------------------------------\n",
    "Trip duration by user type (Assuming to be average)"
   ]
  },
  {
   "cell_type": "code",
   "execution_count": null,
   "metadata": {},
   "outputs": [],
   "source": [
    "# Grouping trip duration by user type and calcualting the average\n",
    "trip_by_user = pd.DataFrame()\n",
    "\n",
    "trip_by_user['Average Trip Duration'] = data.groupby('User Type')['Trip Duration'].mean()\n",
    "trip_by_user = trip_by_user.reset_index()\n",
    "trip_by_user['User Type'] = trip_by_user['User Type'].astype('object')\n",
    "\n",
    "trip_by_user"
   ]
  },
  {
   "cell_type": "code",
   "execution_count": null,
   "metadata": {},
   "outputs": [],
   "source": [
    "# Visualizing this with a box plot to look for potential anomalies\n",
    "data.boxplot('Trip Duration', by = 'User Type')\n",
    "plt.show()"
   ]
  },
  {
   "cell_type": "code",
   "execution_count": null,
   "metadata": {},
   "outputs": [],
   "source": [
    "# Looks like their may be some outliers for trip duration. After further research, it seems that a trip longer \n",
    "# than 2 hours is unlikely as members get the first 45 included and non-members get the first 30 mintues included.\n",
    "# Will be assuming that any trip over 2 hours or 7,200 seconds will be excluded\n",
    "data = data.drop(data.index[(data['Trip Duration'] > 7200)])"
   ]
  },
  {
   "cell_type": "code",
   "execution_count": null,
   "metadata": {},
   "outputs": [],
   "source": [
    "# Visualizing this with a box plot with outliers removed (This looks better)\n",
    "data.boxplot('Trip Duration', by = 'User Type',showfliers=False)\n",
    "plt.show()"
   ]
  },
  {
   "cell_type": "markdown",
   "metadata": {},
   "source": [
    "It can be seen that the customers have, on average, longer trip durations than the subscribers"
   ]
  },
  {
   "cell_type": "code",
   "execution_count": null,
   "metadata": {},
   "outputs": [],
   "source": [
    "# Re-grouping trip duration by user type and calculating the average\n",
    "trip_by_user_clean = pd.DataFrame()\n",
    "\n",
    "trip_by_user_clean['Average Trip Duration'] = data.groupby('User Type')['Trip Duration'].mean()\n",
    "trip_by_user_clean = trip_by_user_clean.reset_index()\n",
    "trip_by_user_clean['User Type'] = trip_by_user_clean['User Type'].astype('object')\n",
    "\n",
    "trip_by_user_clean\n"
   ]
  },
  {
   "cell_type": "code",
   "execution_count": null,
   "metadata": {},
   "outputs": [],
   "source": [
    "# Creating a bar chart to compare both trip durations by user\n",
    "ax2 = trip_by_user_clean.plot.bar(x='User Type', y='Average Trip Duration', rot=0)\n",
    "ax2.set_title('Average Trip Duration by User Type', fontsize = 20)\n",
    "plt.rcParams['figure.figsize'] = 20,7\n",
    "plt.show()\n"
   ]
  },
  {
   "cell_type": "markdown",
   "metadata": {},
   "source": [
    "Question 3\n",
    "------------------------------------------------------------------\n",
    "Most popular trips based on start station and stop station"
   ]
  },
  {
   "cell_type": "code",
   "execution_count": null,
   "metadata": {},
   "outputs": [],
   "source": [
    "# Finding the top 5 most popular trips\n",
    "popular_trips = pd.DataFrame()\n",
    "\n",
    "# Grouping by start name, then by end name\n",
    "popular_trips = data.groupby(['Start Station Name','End Station Name']).size().reset_index(name = 'Number of Trips')\n",
    "popular_trips['Start Station Name'] = popular_trips['Start Station Name'].astype(str)\n",
    "popular_trips['End Station Name'] = popular_trips['End Station Name'].astype(str)\n",
    "\n",
    "# Combining the start and end names to title the trip, and dropping the separate names from the tables for plotting \n",
    "popular_trips['Trip'] = popular_trips['Start Station Name'] + ' To ' + popular_trips['End Station Name']\n",
    "popular_trips = popular_trips.drop(['Start Station Name', \"End Station Name\"], axis=1)\n",
    "\n",
    "popular_trips = popular_trips.sort_values(by=['Number of Trips'], ascending=False)\n",
    "\n",
    "top_5_popular_trips = popular_trips.head()\n",
    "\n",
    "top_5_popular_trips"
   ]
  },
  {
   "cell_type": "code",
   "execution_count": null,
   "metadata": {},
   "outputs": [],
   "source": [
    "# Creating a bar chart find the most popular trips\n",
    "ax3 = top_5_popular_trips.plot.bar(x='Trip', y='Number of Trips', rot=90, fontsize = 15)\n",
    "ax3.set_title('Most Popular Trips', fontsize = 20)\n",
    "plt.rcParams['figure.figsize'] = 20,7\n",
    "plt.show()"
   ]
  },
  {
   "cell_type": "markdown",
   "metadata": {},
   "source": [
    "Question 4\n",
    "------------------------------------------------------------------\n",
    "Rider performance by Gender and Age based on avg trip distance (station to station), median speed (distance traveled / trip duration)"
   ]
  },
  {
   "cell_type": "code",
   "execution_count": null,
   "metadata": {},
   "outputs": [],
   "source": [
    "# Starting by removing birth year missing data as it's a small portion of the data (alt: can fill with avgs) and \n",
    "# calculating the age of each rider for reference\n",
    "data_clean = data.dropna(subset=['Birth Year']) \n",
    "#print (data_clean.isnull().sum())\n",
    "\n",
    "# Calculation of age column\n",
    "data_clean['Age'] = 2019 - data_clean['Birth Year']\n",
    "\n",
    "# Assuming that age above 95 was a mistake\n",
    "data_clean = data_clean.drop(data_clean.index[(data_clean['Age'] > 70)])\n"
   ]
  },
  {
   "cell_type": "code",
   "execution_count": null,
   "metadata": {},
   "outputs": [],
   "source": [
    "# A function to calculate the Haversine Distance as it is less sensitive to round-off error than other methods\n",
    "# that can occur when measuring distances that are located close together (as in this problem)\n",
    "def Haversine(lat1,lon1,lat2,lon2, **kwarg):\n",
    "    \"\"\"\n",
    "    formula:    a = sin²(Δφ/2) + cos φ1 ⋅ cos φ2 ⋅ sin²(Δλ/2)\n",
    "    c = 2 ⋅ atan2( √a, √(1−a) )\n",
    "    d = R ⋅ c\n",
    "    where   φ is latitude, λ is longitude, R is earth’s radius (mean radius = 6,371km);\n",
    "    note that angles need to be in radians to pass to trig functions!\n",
    "    \"\"\"\n",
    "    R = 6371.0088\n",
    "    lat1,lon1,lat2,lon2 = map(np.radians, [lat1,lon1,lat2,lon2])\n",
    "\n",
    "    dlat = lat2 - lat1\n",
    "    dlon = lon2 - lon1\n",
    "    a = np.sin(dlat/2)**2 + np.cos(lat1) * np.cos(lat2) * np.sin(dlon/2) **2\n",
    "    c = 2 * np.arctan2(a**0.5, (1-a)**0.5)\n",
    "    d = R * c\n",
    "    return round(d,4)\n",
    "\n",
    "# Calculation of the Distance column (haversine distance is being used in this case)\n",
    "data_clean['Distance']  = Haversine(data_clean['Start Station Latitude'], data_clean['Start Station Longitude'],\n",
    "                                    data_clean['End Station Latitude'], data_clean['End Station Longitude'])"
   ]
  },
  {
   "cell_type": "code",
   "execution_count": null,
   "metadata": {},
   "outputs": [],
   "source": [
    "# Next we need to address the performance part of the question (median speed)\n",
    "# Calculating how many hours each trip was\n",
    "\n",
    "# For calculatiion ensuring the columns are of the right type\n",
    "data_clean['TD_Minutes'] = data_clean['Trip Duration']/60\n",
    "\n",
    "data_clean['min_per_mile'] = round(data_clean['TD_Minutes']/data_clean['Distance'], 2)\n",
    "\n",
    "#Converting to miles per hour\n",
    "data_clean['mile_per_hour'] = round(data_clean['Distance']/(data_clean['min_per_mile']/60),2)\n",
    "\n",
    "data_clean.describe()"
   ]
  },
  {
   "cell_type": "code",
   "execution_count": null,
   "metadata": {},
   "outputs": [],
   "source": [
    "# Research has suggested that trips longer than 30 miles may indicate the bike has been taken for repair, \n",
    "# these will be removed\n",
    "data_clean = data_clean.drop(data_clean.index[(data_clean['Distance'] >= 30)])\n",
    "\n",
    "\n",
    "# Knowing that the world record for bike speed is about 90 mile/hour we will drop anything above 50 mile/hour\n",
    "data_clean = data_clean.drop(data_clean.index[(data_clean['mile_per_hour'] >= 50)])\n",
    "\n",
    "\n",
    "# Removing any trips of duration 0\n",
    "data_clean = data_clean.drop(data_clean.index[(data_clean['Distance'] == 0)])\n",
    "\n",
    "\n",
    "# Also removing unknown gender \n",
    "data_clean = data_clean.drop(data_clean.index[(data_clean['Gender'] == 0)])\n",
    "                          \n",
    "data_clean.describe()"
   ]
  },
  {
   "cell_type": "code",
   "execution_count": null,
   "metadata": {},
   "outputs": [],
   "source": [
    "# Displaying  performance by age and gender in minutes per mile\n",
    "fig, ax4 = plt.subplots(figsize=(11,5))\n",
    "data_clean.groupby(['Age','Gender']).median()['min_per_mile'].unstack().plot(ax=ax4, color =\"rb\")\n",
    "ax4.legend(['Female','Male'])\n",
    "plt.ylabel('Median Speed (Min/Mile)')\n",
    "plt.title('Rider Performance Based on Gender and Age (Median Speed in Min/Mile)')\n",
    "plt.show()"
   ]
  },
  {
   "attachments": {},
   "cell_type": "markdown",
   "metadata": {},
   "source": [
    "Question 5\n",
    "------------------------------------------------------------------\n",
    "What is the busiest bike in NYC in 2017? How many times was it used? How many minutes was it in use?"
   ]
  },
  {
   "cell_type": "code",
   "execution_count": null,
   "metadata": {},
   "outputs": [],
   "source": [
    "# Finding the busiest bike by number of times used\n",
    "bike_use = data_clean.groupby(['Bike ID']).size().reset_index(name = 'Number of Times Used');\n",
    "bike_use = bike_use.sort_values('Number of Times Used', ascending = False);\n",
    "\n",
    "# The busiest bike is ID 25147 used 34 times\n",
    "top_5_bike_use = bike_use.head()\n",
    "top_5_bike_use\n"
   ]
  },
  {
   "cell_type": "code",
   "execution_count": null,
   "metadata": {},
   "outputs": [],
   "source": [
    "# plotting the top 5 most used bikes\n",
    "ax5 = top_5_bike_use.plot.bar(x='Bike ID', y='Number of Times Used', rot=0, fontsize = 15)\n",
    "ax5.set_title('Most Popular Bikes by Number of Times Used', fontsize = 20)\n",
    "plt.rcParams['figure.figsize'] = 20,7\n",
    "plt.show()"
   ]
  },
  {
   "cell_type": "code",
   "execution_count": null,
   "metadata": {},
   "outputs": [],
   "source": [
    "# Finding the amount of minutes the top 5 most used bikes were used\n",
    "bike_min = pd.DataFrame()\n",
    "bike_min['Minutes Used'] = data_clean.groupby('Bike ID')['TD_Minutes'].sum().round(2)\n",
    "bike_min = bike_min.sort_values('Minutes Used', ascending = False)\n",
    "top_5_bike_min = bike_min.head()\n",
    "top_5_bike_min"
   ]
  },
  {
   "cell_type": "markdown",
   "metadata": {},
   "source": [
    "The top used bike was ID 27286. It was used 34 and for 357.48 minutes"
   ]
  }
 ],
 "metadata": {
  "kernelspec": {
   "display_name": "Python 3",
   "language": "python",
   "name": "python3"
  },
  "language_info": {
   "codemirror_mode": {
    "name": "ipython",
    "version": 3
   },
   "file_extension": ".py",
   "mimetype": "text/x-python",
   "name": "python",
   "nbconvert_exporter": "python",
   "pygments_lexer": "ipython3",
   "version": "3.7.3"
  }
 },
 "nbformat": 4,
 "nbformat_minor": 2
}
